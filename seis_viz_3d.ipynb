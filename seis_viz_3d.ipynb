{
 "cells": [
  {
   "cell_type": "code",
   "execution_count": 3,
   "metadata": {},
   "outputs": [
    {
     "data": {
      "application/vnd.jupyter.widget-view+json": {
       "model_id": "6022b92b259646e38fafc75ec682678a",
       "version_major": 2,
       "version_minor": 0
      },
      "text/plain": [
       "  0%|          | 0.00/12.3k [00:00<?, ? traces/s]"
      ]
     },
     "metadata": {},
     "output_type": "display_data"
    },
    {
     "name": "stdout",
     "output_type": "stream",
     "text": [
      "Loading as 3D\n",
      "Fast direction is TRACE_SEQUENCE_FILE\n"
     ]
    },
    {
     "data": {
      "application/vnd.jupyter.widget-view+json": {
       "model_id": "33cedff0e33647f5830598fb21ebfa45",
       "version_major": 2,
       "version_minor": 0
      },
      "text/plain": [
       "Converting SEGY:   0%|          | 0.00/12.3k [00:00<?, ? traces/s]"
      ]
     },
     "metadata": {},
     "output_type": "display_data"
    },
    {
     "data": {
      "application/vnd.jupyter.widget-view+json": {
       "model_id": "121f52a0558848d9a2856c7055dbade7",
       "version_major": 2,
       "version_minor": 0
      },
      "text/plain": [
       "interactive(children=(IntSlider(value=10120, description='inline_val', max=10150, min=10090), Output(layout=La…"
      ]
     },
     "metadata": {},
     "output_type": "display_data"
    }
   ],
   "source": [
    "import numpy as np\n",
    "import pandas as pd\n",
    "import matplotlib.pyplot as plt\n",
    "import warnings\n",
    "import os\n",
    "import imageio\n",
    "warnings.filterwarnings(\"ignore\")\n",
    "\n",
    "from segysak.segy import (\n",
    "    segy_loader,\n",
    "    get_segy_texthead,\n",
    "    segy_header_scan,\n",
    "    segy_header_scrape,\n",
    "    well_known_byte_locs,\n",
    ")\n",
    "\n",
    "import ipywidgets as widgets\n",
    "from ipywidgets import interactive\n",
    "\n",
    "path_data = './data/'\n",
    "\n",
    "def load_seismic_data(path):\n",
    "    # Load seismic data\n",
    "    cube = segy_loader(path+'volve10r12-full-twt-sub3d.sgy', **well_known_byte_locs('petrel_3d'))\n",
    "\n",
    "    # Calculate corner points of seismic survey\n",
    "    cube.seis.calc_corner_points()\n",
    "    corners = np.array(cube.attrs[\"corner_points_xy\"])\n",
    "\n",
    "    return cube, corners\n",
    "\n",
    "def load_horizon_data(path):\n",
    "    # Load horizon\n",
    "    hrz = pd.read_csv(path+'/hor_twt_hugin_fm_top.dat', names=['cdp_x', 'cdp_y', 'twt'], sep='\\s+')\n",
    "    return hrz\n",
    "\n",
    "def map_horizon_to_seismic(cube, hrz):\n",
    "    # Map horizon to seismic survey\n",
    "    hrz_mapped = cube.seis.surface_from_points(hrz, \"twt\", right=(\"cdp_x\", \"cdp_y\"))\n",
    "    return hrz_mapped\n",
    "\n",
    "def plot_seismic_section(cube, corners, hrz_mapped, inline_val):\n",
    "    opt = dict(\n",
    "        x=\"xline\",\n",
    "        y=\"twt\",\n",
    "        add_colorbar=True,\n",
    "        interpolation=\"spline16\",\n",
    "        robust=True,\n",
    "        yincrease=False,\n",
    "        cmap=\"RdBu\",\n",
    "        vmin=-5,\n",
    "        vmax=5,\n",
    "        alpha=0.8\n",
    "    )\n",
    "    f, ax = plt.subplots(1,2,figsize=(20,5))\n",
    "    # ... [The rest of the plotting code from the f(inline_val) function]\n",
    "    tform = cube.seis.get_affine_transform()\n",
    "    axs = ax[0]\n",
    "    mesh = axs.pcolormesh(\n",
    "        hrz_mapped.iline,\n",
    "        hrz_mapped.xline,\n",
    "        hrz_mapped.twt.T,\n",
    "        shading=\"auto\",\n",
    "        transform=tform + axs.transData,\n",
    "        cmap = 'viridis_r'\n",
    "    )\n",
    "    axs.set_aspect(1)\n",
    "    axs.axis('off')\n",
    "    dx = 5 # number of lines in x and y grid\n",
    "    line_ext = 5 #extension of grid lines\n",
    "    text_ext = 5\n",
    "\n",
    "    axs.plot(corners[:,0], corners[:,1], lw = 4, c='white')\n",
    "    axs.plot([corners[0,0]  ,corners[-1,0]], [corners[0,1]  ,corners[-1,1]],  lw = 4, c='white')\n",
    "    #Grid \n",
    "    seis_grid_x = np.round(np.linspace(cube.iline.min(),cube.iline.max(), dx).astype('int64'),-1)\n",
    "    seis_grid_y = np.round(np.linspace(cube.xline.min(),cube.xline.max(), dx).astype('int64'),-1)\n",
    "\n",
    "    props = dict( facecolor='white',edgecolor = 'k', alpha=1)\n",
    "\n",
    "    _ = axs.plot([inline_val, inline_val], [cube.xline[0], cube.xline[-1]], transform=tform + axs.transData, color=\"k\", lw = 2)\n",
    "    axs.text(inline_val-5, cube.xline[-1]+6, transform=tform + axs.transData, s=str(inline_val), rotation= 75, fontsize = 8, bbox = props)\n",
    "\n",
    "    #Grid loop:\n",
    "    for i in range(seis_grid_x.shape[0]):\n",
    "        # Inline grid\n",
    "        _ = axs.plot([cube.iline[0]-line_ext, cube.iline[-1]+line_ext], [seis_grid_y[i], seis_grid_y[i]], transform=tform + axs.transData, color=\"grey\", lw = .5)\n",
    "        #Crossline grid\n",
    "        _ = axs.plot([seis_grid_x[i], seis_grid_x[i]], [cube.xline[0]-line_ext, cube.xline[-1]+line_ext], transform=tform + axs.transData, color=\"grey\", lw = .5)\n",
    "        #Inline numbers\n",
    "        #axs.text(seis_grid_x[i], cube.xline[-1]+10, transform=tform + axs.transData, s=str(seis_grid_x[i]), rotation= 75, fontsize = 8)\n",
    "        #Crossline numbers\n",
    "        axs.text(cube.iline[-1]+text_ext, seis_grid_y[i]+5, transform=tform + axs.transData, s=str(seis_grid_y[i]), rotation= 75 - 90, fontsize = 10)\n",
    "\n",
    "    #'Inline #' label\n",
    "    axs.text(seis_grid_x[len(seis_grid_x)//2]-5, cube.xline[-1]+20, transform=tform + axs.transData, s='Inline #', rotation= 75  , fontsize = 10);\n",
    "    #'Crossline #' label\n",
    "    axs.text(cube.iline[-1]+10, seis_grid_y[len(seis_grid_y)//2]+8, transform=tform + axs.transData, s='Crossline #', rotation= 75 - 90  , fontsize = 10);\n",
    "    \n",
    "\n",
    "    ####### vertical seismic plot here ######\n",
    "\n",
    "    cube.data.sel(iline=inline_val, twt=slice(2300, 3000)).plot.imshow(ax=ax[1],   **opt )\n",
    "    x, t = hrz_mapped.sel(iline=inline_val).xline, hrz_mapped.sel(iline=inline_val).twt\n",
    "    ax[1].plot(x, t, color=\"k\", lw = 3)\n",
    "    ax[1].invert_xaxis()\n",
    "    ax[1].set_xlabel('Crossline #')\n",
    "    ax[1].set_ylabel('TWT (ms)')\n",
    "    ax[1].set_title('Inline #'+str(inline_val))\n",
    "    ax[1].text(x[11],t[0], s = 'Top Hugin', bbox = props, fontsize = 6)\n",
    "def create_interactive_plot(cube, corners, hrz_mapped):\n",
    "    interactive_plot = interactive(lambda inline_val: plot_seismic_section(cube, corners, hrz_mapped, inline_val),\n",
    "                                   inline_val=(cube.iline.data.min(), cube.iline.data.max()))\n",
    "    output = interactive_plot.children[-1]\n",
    "    output.layout.height = '480px'\n",
    "    return interactive_plot\n",
    "\n",
    "if __name__ == \"__main__\":\n",
    "    cube, corners = load_seismic_data(path_data)\n",
    "    hrz = load_horizon_data(path_data)\n",
    "    hrz_mapped = map_horizon_to_seismic(cube, hrz)\n",
    "    interactive_plot = create_interactive_plot(cube, corners, hrz_mapped)\n",
    "    display(interactive_plot)\n"
   ]
  },
  {
   "cell_type": "code",
   "execution_count": 6,
   "metadata": {},
   "outputs": [
    {
     "data": {
      "application/vnd.jupyter.widget-view+json": {
       "model_id": "532e7991807641e2af5b121701f3d1ac",
       "version_major": 2,
       "version_minor": 0
      },
      "text/plain": [
       "  0%|          | 0.00/12.3k [00:00<?, ? traces/s]"
      ]
     },
     "metadata": {},
     "output_type": "display_data"
    },
    {
     "name": "stdout",
     "output_type": "stream",
     "text": [
      "Loading as 3D\n",
      "Fast direction is TRACE_SEQUENCE_FILE\n"
     ]
    },
    {
     "data": {
      "application/vnd.jupyter.widget-view+json": {
       "model_id": "e69832fb118746cbbb4fd7ee4dfbef80",
       "version_major": 2,
       "version_minor": 0
      },
      "text/plain": [
       "Converting SEGY:   0%|          | 0.00/12.3k [00:00<?, ? traces/s]"
      ]
     },
     "metadata": {},
     "output_type": "display_data"
    },
    {
     "ename": "",
     "evalue": "",
     "output_type": "error",
     "traceback": [
      "\u001b[1;31mCanceled future for execute_request message before replies were done"
     ]
    },
    {
     "ename": "",
     "evalue": "",
     "output_type": "error",
     "traceback": [
      "\u001b[1;31mThe Kernel crashed while executing code in the the current cell or a previous cell. Please review the code in the cell(s) to identify a possible cause of the failure. Click <a href='https://aka.ms/vscodeJupyterKernelCrash'>here</a> for more info. View Jupyter <a href='command:jupyter.viewOutput'>log</a> for further details."
     ]
    }
   ],
   "source": [
    "import pyvista as pv\n",
    "import numpy as np\n",
    "\n",
    "def create_seismic_volume_mesh(cube):\n",
    "    data = cube.data.values\n",
    "    data_normalized = (data - np.min(data)) / (np.max(data) - np.min(data))\n",
    "\n",
    "    # Create a 3D uniform grid from seismic data\n",
    "    grid = pv.UniformGrid()\n",
    "    grid.dimensions = np.array(data_normalized.shape) + 1\n",
    "    grid.spacing = [1, 1, 1]\n",
    "    grid.origin = [0, 0, 0]\n",
    "    grid.cell_data[\"values\"] = data_normalized.flatten(order=\"F\")\n",
    "\n",
    "    return grid\n",
    "\n",
    "\n",
    "def create_horizon_mesh(hrz_mapped):\n",
    "    X, Y, Z = np.meshgrid(hrz_mapped.iline, hrz_mapped.xline, hrz_mapped.twt, indexing='ij')\n",
    "    points = np.column_stack((X.ravel(), Y.ravel(), Z.ravel()))\n",
    "\n",
    "    # Create a mesh from horizon data\n",
    "    mesh = pv.PolyData(points)\n",
    "    mesh = mesh.delaunay_2d()\n",
    "\n",
    "    return mesh\n",
    "\n",
    "def plot_seismic_volume_horizon(cube, hrz_mapped):\n",
    "    seismic_volume_mesh = create_seismic_volume_mesh(cube)\n",
    "    horizon_mesh = create_horizon_mesh(hrz_mapped)\n",
    "\n",
    "    plotter = pv.Plotter(notebook=True)  # Set notebook=False for an interactive window\n",
    "    plotter.add_mesh(seismic_volume_mesh, opacity=\"linear\", cmap=\"viridis\")\n",
    "    plotter.add_mesh(horizon_mesh, color=\"green\", show_edges=True)\n",
    "\n",
    "    plotter.show_grid()\n",
    "    plotter.show()\n",
    "\n",
    "if __name__ == \"__main__\":\n",
    "    cube, corners = load_seismic_data(path_data)\n",
    "    hrz = load_horizon_data(path_data)\n",
    "    hrz_mapped = map_horizon_to_seismic(cube, hrz)\n",
    "\n",
    "    plot_seismic_volume_horizon(cube, hrz_mapped)\n"
   ]
  },
  {
   "cell_type": "code",
   "execution_count": null,
   "metadata": {},
   "outputs": [],
   "source": []
  }
 ],
 "metadata": {
  "kernelspec": {
   "display_name": "base",
   "language": "python",
   "name": "python3"
  },
  "language_info": {
   "codemirror_mode": {
    "name": "ipython",
    "version": 3
   },
   "file_extension": ".py",
   "mimetype": "text/x-python",
   "name": "python",
   "nbconvert_exporter": "python",
   "pygments_lexer": "ipython3",
   "version": "3.10.9"
  },
  "orig_nbformat": 4
 },
 "nbformat": 4,
 "nbformat_minor": 2
}
